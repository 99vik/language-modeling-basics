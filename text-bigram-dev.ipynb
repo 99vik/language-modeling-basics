{
 "cells": [
  {
   "cell_type": "code",
   "execution_count": 1,
   "metadata": {},
   "outputs": [
    {
     "data": {
      "text/plain": [
       "'First Citizen:\\nBefore we proceed any further, hear me speak.\\n\\nAll:\\nSpeak, speak.\\n\\nFirst Citizen:\\nYou'"
      ]
     },
     "execution_count": 1,
     "metadata": {},
     "output_type": "execute_result"
    }
   ],
   "source": [
    "text = open('text.txt', 'r').read()\n",
    "text[:100]"
   ]
  },
  {
   "cell_type": "code",
   "execution_count": 2,
   "metadata": {},
   "outputs": [
    {
     "name": "stdout",
     "output_type": "stream",
     "text": [
      "[46, 43, 50, 50, 53, 1, 61, 53, 56, 50, 42]\n",
      "hello world\n"
     ]
    }
   ],
   "source": [
    "all_elements = sorted(set(text))\n",
    "vocab_size = len(all_elements)\n",
    "stoi = {char: index for index, char in enumerate(all_elements)}\n",
    "itos = {index: char for index, char in enumerate(all_elements)}\n",
    "\n",
    "encoder = lambda text : [stoi[char] for char in text]\n",
    "decoder = lambda list : ''.join([itos[int] for int in list])\n",
    "\n",
    "print(encoder('hello world'))\n",
    "print(decoder([46, 43, 50, 50, 53, 1, 61, 53, 56, 50, 42]))"
   ]
  },
  {
   "cell_type": "code",
   "execution_count": 3,
   "metadata": {},
   "outputs": [
    {
     "data": {
      "text/plain": [
       "(torch.Size([1115393]),\n",
       " torch.int64,\n",
       " tensor([18, 47, 56, 57, 58,  1, 15, 47, 58, 47, 64, 43, 52, 10,  0, 14, 43, 44,\n",
       "         53, 56, 43,  1, 61, 43,  1, 54, 56, 53, 41, 43, 43, 42,  1, 39, 52, 63,\n",
       "          1, 44, 59, 56, 58, 46, 43, 56,  6,  1, 46, 43, 39, 56,  1, 51, 43,  1,\n",
       "         57, 54, 43, 39, 49,  8,  0,  0, 13, 50, 50, 10,  0, 31, 54, 43, 39, 49,\n",
       "          6,  1, 57, 54, 43, 39, 49,  8,  0,  0, 18, 47, 56, 57, 58,  1, 15, 47,\n",
       "         58, 47, 64, 43, 52, 10,  0, 37, 53, 59]))"
      ]
     },
     "execution_count": 3,
     "metadata": {},
     "output_type": "execute_result"
    }
   ],
   "source": [
    "import torch\n",
    "\n",
    "data = torch.tensor(encoder(text), dtype=torch.long)\n",
    "data.shape, data.dtype, data[:100]"
   ]
  },
  {
   "cell_type": "code",
   "execution_count": 4,
   "metadata": {},
   "outputs": [],
   "source": [
    "training_data = data[:int(0.9*len(data))]\n",
    "validation_data = data[int(0.9*len(data)):]"
   ]
  },
  {
   "cell_type": "code",
   "execution_count": 5,
   "metadata": {},
   "outputs": [],
   "source": [
    "batch_size = 24\n",
    "context_size = 8"
   ]
  },
  {
   "cell_type": "code",
   "execution_count": 6,
   "metadata": {},
   "outputs": [],
   "source": [
    "def get_batch():\n",
    "    ix = torch.randint(len(training_data) - context_size, (batch_size,))\n",
    "    x = torch.stack([training_data[i:i+context_size] for i in ix])\n",
    "    y = torch.stack([training_data[i+1:i+context_size+1] for i in ix])\n",
    "    return x, y\n",
    "\n",
    "x_val = validation_data[:-1]\n",
    "y_val = validation_data[1:]"
   ]
  },
  {
   "cell_type": "code",
   "execution_count": 7,
   "metadata": {},
   "outputs": [],
   "source": [
    "import torch\n",
    "import torch.nn as nn\n",
    "from torch.nn import functional as F\n",
    "\n",
    "class BigramModel(nn.Module):\n",
    "    def __init__(self, vocab_size):\n",
    "        super().__init__()\n",
    "        self.token_embedding_table = nn.Embedding(vocab_size, vocab_size)\n",
    "\n",
    "    def forward(self, idx, targets = None, training = True):\n",
    "\n",
    "        logits = self.token_embedding_table(idx)\n",
    "\n",
    "        if not training:\n",
    "            return F.cross_entropy(logits, targets)\n",
    "        \n",
    "        if targets is None:\n",
    "            loss = None\n",
    "        else:\n",
    "            B, T, C = logits.shape\n",
    "            logits = logits.view(B*T, C)\n",
    "            targets = targets.view(B*T)\n",
    "            loss = F.cross_entropy(logits, targets)\n",
    "\n",
    "        return logits, loss\n",
    "    \n",
    "    def generate(self, generation_size):\n",
    "        ix = 0\n",
    "        output = []\n",
    "        for _ in range(generation_size):\n",
    "            logits, loss = self(torch.tensor([ix]))\n",
    "\n",
    "            probs = F.softmax(logits, dim=-1) # (B, C)\n",
    "            ix = torch.multinomial(probs, num_samples=1) # (B, 1)\n",
    "            output.append(ix.item())\n",
    "        return output\n"
   ]
  },
  {
   "cell_type": "code",
   "execution_count": 8,
   "metadata": {},
   "outputs": [
    {
     "name": "stdout",
     "output_type": "stream",
     "text": [
      "JIoDHHdhsVvv,ixatFswMZwtEH-'phV3qvzsZ!s$zF-Q,ke$krx.gQSKsLg!iW3VO!tDGxdqTs$3Ld&bfKzG.eJydKQSrYSHRqt!:!wWZaFWxbjCiD?Khsry,yvKrxR\n",
      "Ju$'vaJqCBr-g-jCeqywUNfPl&&pp.kl:BvtF$Lwt?!R:UKaKWBZB,pFZfsGZalk';g&PqgoSX-jG'LJ $$l\n",
      "-bVKPsLO'XmpkO!tFgek\n",
      "GVWFMgy'hVCWhV.W.qCYPANaFxwDOYdn\n",
      "?'O'?KPUBrYxG&P&tcusoMRoJFzsLUFga\n"
     ]
    }
   ],
   "source": [
    "torch.manual_seed(1337)\n",
    "\n",
    "xb, yb = get_batch()\n",
    "model = BigramModel(vocab_size)\n",
    "logits, loss = model(xb, yb)\n",
    "\n",
    "print(decoder(model.generate(300)))"
   ]
  },
  {
   "cell_type": "code",
   "execution_count": 9,
   "metadata": {},
   "outputs": [],
   "source": [
    "optimizer = torch.optim.AdamW(model.parameters(), lr=1e-3)"
   ]
  },
  {
   "cell_type": "code",
   "execution_count": 10,
   "metadata": {},
   "outputs": [
    {
     "name": "stdout",
     "output_type": "stream",
     "text": [
      "Validation loss: 2.4833123683929443\n"
     ]
    }
   ],
   "source": [
    "for _ in range(20000):\n",
    "    xb, yb = get_batch()\n",
    "\n",
    "    logits, loss = model(xb, yb)\n",
    "    optimizer.zero_grad(set_to_none=True)\n",
    "    loss.backward()\n",
    "    optimizer.step()\n",
    "\n",
    "print(f'Validation loss: {model(x_val, y_val, False)}')"
   ]
  },
  {
   "cell_type": "code",
   "execution_count": 13,
   "metadata": {},
   "outputs": [
    {
     "name": "stdout",
     "output_type": "stream",
     "text": [
      "Tocenchemy ms s. siarst whe as?\n",
      "\n",
      "RINThrrderfrre chenge;\n",
      "POFil har s is t the we id ie nd e t a VI s tead Jut' TUERI' y, mous h w Yerindr' S:\n",
      "SAngil,\n",
      "INu. ou bean preiobondlong.\n",
      "pou.\n",
      "LBe me apre agowarus wd thon's cairo\n",
      "T:\n",
      "blind ne ishited ORornsl owhfr h ameamourous, l s an the ghe oooutlo O: anu ENThent a, w\n",
      "\n",
      "Whe marashowet my thad EDENCHe ateandere? orvis he, s t.\n",
      "NGreee m de berowomy ghomay,\n",
      "HA:\n",
      "Her; be r ou t mo t S:\n",
      "BEver wh, Murmesd,\n",
      "Fou tod ite teaband w f thengey sirey ill tourn:\n",
      "Antere.\n",
      "\n",
      "I hthas d, ngelengo thd burorur by ro?\n",
      "Fovinourt an shaler:\n",
      "Mum wit imad a hey SCl:\n",
      "\n",
      "Arenambee py SAS:\n",
      "RD:\n",
      "Hanouosene s nelis t\n",
      "Ty,\n",
      "Y his he be wncorsthoueesofal thenesuserooueth gh\n",
      "A:\n",
      "\n",
      "DWis imberdraroferur be l: pad\n",
      "Burd t ctis arnd without, CUSHe r mas the toandaisoze al il padds, y t his heseny\n"
     ]
    }
   ],
   "source": [
    "print(decoder(model.generate(800)))"
   ]
  }
 ],
 "metadata": {
  "kernelspec": {
   "display_name": "Python 3",
   "language": "python",
   "name": "python3"
  },
  "language_info": {
   "codemirror_mode": {
    "name": "ipython",
    "version": 3
   },
   "file_extension": ".py",
   "mimetype": "text/x-python",
   "name": "python",
   "nbconvert_exporter": "python",
   "pygments_lexer": "ipython3",
   "version": "3.12.1"
  }
 },
 "nbformat": 4,
 "nbformat_minor": 2
}
