{
 "cells": [
  {
   "cell_type": "code",
   "execution_count": 1,
   "metadata": {},
   "outputs": [],
   "source": [
    "import torch\n",
    "import torch.nn.functional as F\n",
    "import matplotlib.pyplot as plt\n",
    "%matplotlib inline"
   ]
  },
  {
   "cell_type": "code",
   "execution_count": 2,
   "metadata": {},
   "outputs": [],
   "source": [
    "import random\n",
    "\n",
    "random.seed(15)\n",
    "\n",
    "words = open('names.txt', 'r').read().splitlines()\n",
    "random.shuffle(words)"
   ]
  },
  {
   "cell_type": "code",
   "execution_count": 3,
   "metadata": {},
   "outputs": [],
   "source": [
    "all_characters = sorted(set(''.join(words)))\n",
    "stoi = {char: index + 1 for index, char in enumerate(all_characters)}\n",
    "stoi['.'] = 0\n",
    "itos = { char: index for index, char in stoi.items()}"
   ]
  },
  {
   "cell_type": "code",
   "execution_count": 4,
   "metadata": {},
   "outputs": [],
   "source": [
    "# neural network parameters for modification\n",
    "context_size = 3\n",
    "embedding_dimensions = 2\n",
    "second_layer_neurons = 100\n",
    "batch_size = 48\n",
    "training_set_iterations = 10000"
   ]
  },
  {
   "cell_type": "code",
   "execution_count": 5,
   "metadata": {},
   "outputs": [],
   "source": [
    "# nn architecture\n",
    "\n",
    "g = torch.Generator().manual_seed(3498561551) # for reproducibility\n",
    "C = torch.randn((27, embedding_dimensions), requires_grad=True, generator=g)\n",
    "W1 = torch.randn((context_size * embedding_dimensions, second_layer_neurons), requires_grad=True, generator=g)\n",
    "b1 = torch.randn(second_layer_neurons, requires_grad=True, generator=g)\n",
    "W2 = torch.randn((second_layer_neurons, 27), requires_grad=True, generator=g)\n",
    "b2 = torch.randn(27, requires_grad=True, generator=g)\n",
    "parameters = [C, W1, b1, W2, b2]"
   ]
  },
  {
   "cell_type": "code",
   "execution_count": 6,
   "metadata": {},
   "outputs": [
    {
     "name": "stdout",
     "output_type": "stream",
     "text": [
      "32033\n"
     ]
    },
    {
     "data": {
      "text/plain": [
       "(torch.Size([182465, 3]), torch.Size([22863, 3]), torch.Size([22818, 3]))"
      ]
     },
     "execution_count": 6,
     "metadata": {},
     "output_type": "execute_result"
    }
   ],
   "source": [
    "\n",
    "def build_dataset(words):\n",
    "    X, Y = [], []\n",
    "\n",
    "    for word in words:\n",
    "        context = [0] * context_size\n",
    "        for char in word + '.':\n",
    "            ichar = stoi[char]\n",
    "            X.append(context)\n",
    "            Y.append(ichar)\n",
    "            # print(''.join(itos[i] for i in context), '-->', char)\n",
    "            context = context[1:] + [ichar]\n",
    "\n",
    "    return torch.tensor(X), torch.tensor(Y)\n",
    "\n",
    "Xtr, Ytr = build_dataset(words[:int(0.8*len(words))])\n",
    "Xdev, Ydev = build_dataset(words[int(0.8*len(words)):int(0.9*len(words))])\n",
    "Xte, Yte = build_dataset(words[int(0.9*len(words)):])\n",
    "\n",
    "print(len(words))\n",
    "Xtr.size(), Xdev.size(), Xte.size()\n"
   ]
  },
  {
   "cell_type": "code",
   "execution_count": 7,
   "metadata": {},
   "outputs": [
    {
     "name": "stdout",
     "output_type": "stream",
     "text": [
      "Number of parameters: 3481\n"
     ]
    }
   ],
   "source": [
    "pn = sum(p.nelement() for p in parameters)\n",
    "print('Number of parameters:', pn)"
   ]
  },
  {
   "cell_type": "code",
   "execution_count": 8,
   "metadata": {},
   "outputs": [],
   "source": [
    "learning_rate = torch.linspace(0.4, 0.001, training_set_iterations)"
   ]
  },
  {
   "cell_type": "code",
   "execution_count": 9,
   "metadata": {},
   "outputs": [],
   "source": [
    "# training set\n",
    "lossi = []\n",
    "iteration = []\n",
    "\n",
    "for i in range(training_set_iterations):\n",
    "    batch = torch.randint(0, Xtr.shape[0], (batch_size,))\n",
    "    Xbatch = Xtr[batch]\n",
    "    Ybatch = Ytr[batch]\n",
    "\n",
    "    embedding = C[Xbatch]\n",
    "    x = torch.tanh(embedding.view(Xbatch.shape[0], 6) @ W1 + b1)\n",
    "    logits = x @ W2 + b2\n",
    "    loss = F.cross_entropy(logits, Ybatch)\n",
    "\n",
    "    for p in parameters:\n",
    "        p.grad = None\n",
    "    loss.backward()\n",
    "\n",
    "    for p in parameters:\n",
    "        p.data += -learning_rate[i] * p.grad\n",
    "    \n",
    "    lossi.append(loss.item())\n",
    "    iteration.append(i)\n"
   ]
  },
  {
   "cell_type": "code",
   "execution_count": 10,
   "metadata": {},
   "outputs": [],
   "source": [
    "# test set\n",
    "\n",
    "embedding = C[Xte]\n",
    "x = torch.tanh(embedding.view(Xte.shape[0], 6) @ W1 + b1)\n",
    "logits = x @ W2 + b2\n",
    "loss = F.cross_entropy(logits, Yte)\n",
    "\n",
    "for p in parameters:\n",
    "    p.grad = None\n",
    "loss.backward()\n",
    "\n",
    "for p in parameters:\n",
    "    p.data += -0.01 * p.grad\n",
    "\n"
   ]
  },
  {
   "cell_type": "code",
   "execution_count": 11,
   "metadata": {},
   "outputs": [
    {
     "data": {
      "text/plain": [
       "[<matplotlib.lines.Line2D at 0x1811868cd10>]"
      ]
     },
     "execution_count": 11,
     "metadata": {},
     "output_type": "execute_result"
    },
    {
     "data": {
      "image/png": "[encoded data removed]",
      "text/plain": [
       "<Figure size 640x480 with 1 Axes>"
      ]
     },
     "metadata": {},
     "output_type": "display_data"
    }
   ],
   "source": [
    "plt.plot(iteration, lossi)"
   ]
  },
  {
   "cell_type": "code",
   "execution_count": 12,
   "metadata": {},
   "outputs": [
    {
     "name": "stdout",
     "output_type": "stream",
     "text": [
      "Training set loss:  2.3383824825286865\n",
      "Development set loss:  2.349829912185669\n"
     ]
    }
   ],
   "source": [
    "def calculate_loss(X, Y):\n",
    "    emb = C[X] # (32, 3, 2)\n",
    "    h = torch.tanh(emb.view(X.shape[0], context_size * embedding_dimensions) @ W1 + b1) # (32, 100)\n",
    "    logits = h @ W2 + b2 # (32, 27)\n",
    "    loss = F.cross_entropy(logits, Y)\n",
    "    return loss.item()\n",
    "\n",
    "print('Training set loss: ', calculate_loss(Xtr, Ytr))\n",
    "print('Development set loss: ', calculate_loss(Xdev, Ydev))"
   ]
  }
 ],
 "metadata": {
  "kernelspec": {
   "display_name": "Python 3",
   "language": "python",
   "name": "python3"
  },
  "language_info": {
   "codemirror_mode": {
    "name": "ipython",
    "version": 3
   },
   "file_extension": ".py",
   "mimetype": "text/x-python",
   "name": "python",
   "nbconvert_exporter": "python",
   "pygments_lexer": "ipython3",
   "version": "3.12.1"
  }
 },
 "nbformat": 4,
 "nbformat_minor": 2
}
