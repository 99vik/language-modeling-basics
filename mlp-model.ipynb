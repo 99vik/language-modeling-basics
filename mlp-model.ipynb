{
 "cells": [
  {
   "cell_type": "code",
   "execution_count": 16,
   "metadata": {},
   "outputs": [],
   "source": [
    "import torch\n",
    "import torch.nn.functional as F\n",
    "import matplotlib.pyplot as plt"
   ]
  },
  {
   "cell_type": "code",
   "execution_count": 17,
   "metadata": {},
   "outputs": [],
   "source": [
    "words = open('names.txt', 'r').read().splitlines()"
   ]
  },
  {
   "cell_type": "code",
   "execution_count": 18,
   "metadata": {},
   "outputs": [],
   "source": [
    "all_characters = sorted(set(''.join(words)))\n",
    "stoi = {char: index + 1 for index, char in enumerate(all_characters)}\n",
    "stoi['.'] = 0\n",
    "itos = { char: index for index, char in stoi.items()}"
   ]
  },
  {
   "cell_type": "code",
   "execution_count": 19,
   "metadata": {},
   "outputs": [],
   "source": [
    "block_size = 3\n",
    "X, Y = [], []\n",
    "\n",
    "for word in words[:10]:\n",
    "    context = [0] * block_size\n",
    "    for char in word + '.':\n",
    "        ichar = stoi[char]\n",
    "        X.append(context)\n",
    "        Y.append(ichar)\n",
    "        # print(''.join(itos[i] for i in context), '-->', char)\n",
    "        context = context[1:] + [ichar]\n",
    "\n",
    "X = torch.tensor(X)\n",
    "Y = torch.tensor(Y)"
   ]
  },
  {
   "cell_type": "code",
   "execution_count": 20,
   "metadata": {},
   "outputs": [],
   "source": [
    "g = torch.Generator().manual_seed(3498561551) # for reproducibility\n",
    "C = torch.randn((27, 2), requires_grad=True, generator=g)\n",
    "W1 = torch.randn((6, 10), requires_grad=True, generator=g)\n",
    "b1 = torch.randn(10, requires_grad=True, generator=g)\n",
    "W2 = torch.randn((10, 27), requires_grad=True, generator=g)\n",
    "b2 = torch.randn(27, requires_grad=True, generator=g)\n",
    "parameters = [C, W1, b1, W2, b2]"
   ]
  },
  {
   "cell_type": "code",
   "execution_count": 23,
   "metadata": {},
   "outputs": [
    {
     "name": "stdout",
     "output_type": "stream",
     "text": [
      "5.911178112030029\n"
     ]
    }
   ],
   "source": [
    "embedding = C[X]\n",
    "x = torch.tanh(embedding.view(X.shape[0], 6) @ W1 + b1)\n",
    "logits = x @ W2 + b2\n",
    "loss = F.cross_entropy(logits, Y)\n",
    "\n",
    "for p in parameters:\n",
    "    p.grad = None\n",
    "loss.backward()\n",
    "\n",
    "for p in parameters:\n",
    "    p.data += -0.1 * p.grad\n",
    "print(loss.item())\n"
   ]
  }
 ],
 "metadata": {
  "kernelspec": {
   "display_name": "Python 3",
   "language": "python",
   "name": "python3"
  },
  "language_info": {
   "codemirror_mode": {
    "name": "ipython",
    "version": 3
   },
   "file_extension": ".py",
   "mimetype": "text/x-python",
   "name": "python",
   "nbconvert_exporter": "python",
   "pygments_lexer": "ipython3",
   "version": "3.12.1"
  }
 },
 "nbformat": 4,
 "nbformat_minor": 2
}
